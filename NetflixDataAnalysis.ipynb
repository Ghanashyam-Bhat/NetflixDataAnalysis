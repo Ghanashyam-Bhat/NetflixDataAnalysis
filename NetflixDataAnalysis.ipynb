{
 "cells": [
  {
   "cell_type": "code",
   "execution_count": 4,
   "id": "7799d719-f282-46fc-a101-d43c82f33638",
   "metadata": {},
   "outputs": [],
   "source": [
    "import numpy as np\n",
    "import pandas as pd\n",
    "import matplotlib.pyplot as plt\n",
    "import time"
   ]
  },
  {
   "cell_type": "code",
   "execution_count": 5,
   "id": "c8637362-289b-4da4-a436-217f42dbfebb",
   "metadata": {},
   "outputs": [],
   "source": [
    "path = \"C:\\\\Users\\\\ADMIN\\\\Jupiter-Notebook-Files\\\\Netflix Data\\\\\"\n",
    "\n",
    "#Reading a Csv file\n",
    "df = pd.read_csv(\"netflix_titles.csv\")"
   ]
  },
  {
   "cell_type": "code",
   "execution_count": 6,
   "id": "0d14380e-f616-4a83-ac67-2e773ec961a1",
   "metadata": {},
   "outputs": [],
   "source": [
    "#Dropping Description and Movie Id\n",
    "df.drop([df.columns[0],df.columns[-1]],inplace= True ,axis=1)\n",
    "\n",
    "#Generealsing the rating\n",
    "df['rating'] = df['rating'].replace(\"TV-MA\",\"R\")\n",
    "df['rating'] = df['rating'].replace(\"TV-PG\",\"PG\")\n",
    "df['rating'] = df['rating'].replace(\"TV-14\",\"PG\")\n",
    "df['rating'] = df['rating'].replace(\"TV-Y\",\"G\")\n",
    "df['rating'] = df['rating'].replace(\"TV-G\",\"G\")\n",
    "df['rating'] = df['rating'].replace(\"TV-Y7\",\"G\")\n",
    "df['rating'] = df['rating'].replace(\"UR\",\"NR\")"
   ]
  },
  {
   "cell_type": "code",
   "execution_count": 7,
   "id": "04994d5e-f41f-4faf-9477-637d6f59fb8f",
   "metadata": {},
   "outputs": [
    {
     "name": "stdout",
     "output_type": "stream",
     "text": [
      "Famous Genre in Each country: \n",
      "Jordan : TV Dramas\n",
      "Luxembourg : International TV Shows\n",
      "India : Dramas\n",
      "Turkey : International Movies\n",
      "Ukraine : International TV Shows\n",
      "Romania : Comedies\n",
      "Chile : Comedies\n",
      "Croatia : TV Dramas\n",
      "Nigeria : Dramas\n",
      "Kenya : Comedies\n",
      "Australia : International TV Shows\n",
      "Hong Kong : Action & Adventure\n",
      "Senegal : International TV Shows\n",
      "Colombia : Spanish-Language TV Shows\n",
      "West Germany : International Movies\n",
      "Finland : TV Comedies\n",
      "Indonesia : International Movies\n",
      "Argentina : Spanish-Language TV Shows\n",
      "New Zealand : Dramas\n",
      "Zimbabwe : International Movies\n",
      "Saudi Arabia : International Movies\n",
      "Iceland : TV Dramas\n",
      "Guatemala : Independent Movies\n",
      "Thailand : International TV Shows\n",
      "Egypt : Comedies\n",
      "Japan : Anime Series\n",
      "Kuwait : Comedies\n",
      "Israel : TV Dramas\n",
      "Mexico : Spanish-Language TV Shows\n",
      "Spain : Spanish-Language TV Shows\n",
      "Cyprus : TV Comedies\n",
      "United States : Documentaries\n",
      "Norway : International Movies\n",
      "Ireland : International Movies\n",
      "United Kingdom : British TV Shows\n",
      "Lebanon : International Movies\n",
      "Pakistan : Comedies\n",
      "Bangladesh : Independent Movies\n",
      "Namibia : International Movies\n",
      "Belgium : TV Dramas\n",
      "Netherlands : Dramas\n",
      "Ghana : International Movies\n",
      "Taiwan : International TV Shows\n",
      "Georgia : International Movies\n",
      "Canada : Children & Family Movies\n",
      "Uruguay : International Movies\n",
      "Singapore : TV Dramas\n",
      "Mozambique : International Movies\n",
      "Belarus : Kids' TV\n",
      "Brazil : International Movies\n",
      "South Korea : Korean TV Shows\n",
      "Switzerland : Dramas\n",
      "Bulgaria : Independent Movies\n",
      "Hungary : International Movies\n",
      "Denmark : TV Dramas\n",
      "Cameroon : International Movies\n",
      "Philippines : Romantic Movies\n",
      "South Africa : Comedies\n",
      "Italy : International Movies\n",
      "Cambodia : International Movies\n",
      "Mauritius : Comedies\n",
      "Peru : International Movies\n",
      "China : International TV Shows\n",
      "Germany : Dramas\n",
      "Venezuela : International Movies\n",
      "France : Dramas\n",
      "Poland : Dramas\n",
      "Vietnam : International Movies\n",
      "Malaysia : International Movies\n",
      "United Arab Emirates : Comedies\n",
      "Russia : TV Dramas\n",
      "Austria : Thrillers\n",
      "Sweden : International TV Shows\n"
     ]
    },
    {
     "data": {
      "image/png": "[encoded data removed]",
      "text/plain": [
       "<Figure size 432x288 with 1 Axes>"
      ]
     },
     "metadata": {
      "needs_background": "light"
     },
     "output_type": "display_data"
    }
   ],
   "source": [
    "#Finding most pupular genre\n",
    "#Getting Genre in the form of list for a country\n",
    "\n",
    "#file = df[input(\"Enter location: \").title() == df[\"country\"]]\n",
    "countries = list()\n",
    "for i in df['country'].dropna():\n",
    "    countries+=i.split(\",\")\n",
    "\n",
    "print(\"Famous Genre in Each country: \")\n",
    "for country in list(set(countries)):\n",
    "    file = df[country == df[\"country\"]]\n",
    "    genre = list()\n",
    "    for i in file['listed_in']:\n",
    "        genre+=i.split(\",\")\n",
    "    genre.sort()\n",
    "\n",
    "    #Counting the total genre in a country\n",
    "    count = {}\n",
    "    temp = \"\"\n",
    "    for i in genre:\n",
    "        if i[0]==\" \":\n",
    "            i = i[1:]\n",
    "        if temp==i:\n",
    "            count[i]+=1\n",
    "            temp = i\n",
    "        else:\n",
    "            count[i] = 1\n",
    "            temp = i\n",
    "\n",
    "    #Sorting the count\n",
    "    genre_count = list()\n",
    "    for i in count:\n",
    "        genre_count.append((i,count[i]))\n",
    "    genre_count.sort(key= lambda x:x[1] , reverse=True)\n",
    "    x = list()\n",
    "    y = list()\n",
    "    for i in genre_count:\n",
    "        x.append(i[0])\n",
    "        y.append(i[1])\n",
    "    if len(x)>0:\n",
    "        #Plotting the Graph of genre\n",
    "        plt.clf()\n",
    "        plt.xticks(rotation=90)\n",
    "        plt.bar(x,y)\n",
    "        plt.title(f\"{country}\")\n",
    "        plt.savefig(path+f\"Best Genre\\\\{country}\",bbox_inches=\"tight\")\n",
    "        print(country,\":\",x[0])\n"
   ]
  },
  {
   "cell_type": "code",
   "execution_count": 8,
   "id": "72566b00-6032-4626-be0b-8d8b61cd171e",
   "metadata": {},
   "outputs": [
    {
     "name": "stdout",
     "output_type": "stream",
     "text": [
      "Director with most films in US: Jay Karas \n",
      "His first movie was released in : 2012\n",
      "His Favorite genre is : Stand-Up Comedy\n"
     ]
    },
    {
     "data": {
      "image/png": "[encoded data removed]",
      "text/plain": [
       "<Figure size 432x288 with 1 Axes>"
      ]
     },
     "metadata": {
      "needs_background": "light"
     },
     "output_type": "display_data"
    }
   ],
   "source": [
    "#Dataframe Containg only USA data\n",
    "us = df[\"United States\" == df[\"country\"]]\n",
    "\n",
    "#There is no Numerical Value to find Outliers\n",
    "\n",
    "#Creating the list of directors and counting number of films\n",
    "director = list()\n",
    "\n",
    "director = list()\n",
    "for i in us['director'].dropna():\n",
    "    director+=i.split(\",\")\n",
    "director.sort()\n",
    "\n",
    "#Counting the total genre in a country\n",
    "count = {}\n",
    "temp = \"\"\n",
    "for i in director:\n",
    "    if i[0]==\" \":\n",
    "        i = i[1:]\n",
    "    if temp==i:\n",
    "        count[i]+=1\n",
    "        temp = i\n",
    "    else:\n",
    "        count[i] = 1\n",
    "        temp = i\n",
    "\n",
    "#Sorting the count\n",
    "director_count = list()\n",
    "for i in count:\n",
    "    director_count.append((i,count[i]))\n",
    "director_count.sort(key= lambda x:x[1] , reverse=True)\n",
    "x = list()\n",
    "y = list()\n",
    "for i in director_count:\n",
    "    x.append(i[0])\n",
    "    y.append(i[1])\n",
    "\n",
    "#Top 10 \n",
    "x_a = list()\n",
    "y_a = list()\n",
    "\n",
    "x_a+=x[:11]\n",
    "y_a += y[:11]\n",
    "\n",
    "#Middle Values\n",
    "i = 11\n",
    "while i<(len(x)-3):\n",
    "    x_a.append(x[i])\n",
    "    y_a.append(y[i])\n",
    "    i+=len(x)//20\n",
    "\n",
    "#Bottom 3 \n",
    "x_a += x[-1:-4:-1]\n",
    "y_a += y[-1:-4:-1]\n",
    "\n",
    "#Plotting the Graph of directors\n",
    "plt.clf()\n",
    "plt.xticks(rotation=90)\n",
    "plt.bar( x_a,y_a)\n",
    "plt.title(\"USA Director_list\")\n",
    "plt.savefig(\"USA Director_list\",bbox_inches=\"tight\")\n",
    "print(f\"Director with most films in US: {x_a[0]} \")\n",
    "#Finding First movie of the director \n",
    "us = df[\"United States\" == df[\"country\"]]\n",
    "us = us[x_a[0] == us[\"director\"]]\n",
    "print(f\"His first movie was released in : {min(us['release_year'])}\")\n",
    "#Finding the Favorite genre of the director\n",
    "genre = list()\n",
    "for i in us['listed_in']:\n",
    "    genre+=i.split(\",\")\n",
    "genre.sort()\n",
    "#Counting the total genre in a country\n",
    "count = {}\n",
    "temp = \"\"\n",
    "for i in genre:\n",
    "    if i[0]==\" \":\n",
    "        i = i[1:]\n",
    "    if temp==i:\n",
    "        count[i]+=1\n",
    "        temp = i\n",
    "    else:\n",
    "        count[i] = 1\n",
    "        temp = i\n",
    "\n",
    "#Sorting the count\n",
    "genre_count = list()\n",
    "for i in count:\n",
    "    genre_count.append((i,count[i]))\n",
    "genre_count.sort(key= lambda x:x[1] , reverse=True)\n",
    "print(f\"His Favorite genre is : {genre_count[0][0]}\")"
   ]
  },
  {
   "cell_type": "code",
   "execution_count": 9,
   "id": "6fbd69c6-d474-42c1-b337-d31ef1fa15e9",
   "metadata": {},
   "outputs": [
    {
     "name": "stdout",
     "output_type": "stream",
     "text": [
      "Actor with most films in US: Adam Sandler \n",
      "His first movie was released in : 2018\n",
      "His Favorite genre is : Stand-Up Comedy\n"
     ]
    },
    {
     "data": {
      "image/png": "[encoded data removed]",
      "text/plain": [
       "<Figure size 432x288 with 1 Axes>"
      ]
     },
     "metadata": {
      "needs_background": "light"
     },
     "output_type": "display_data"
    }
   ],
   "source": [
    "#To find Actor with most number of Films(Using same code as of director\")\n",
    "#Dataframe Containg only USA data\n",
    "us = df[\"United States\" == df[\"country\"]]\n",
    "\n",
    "#There is no Numerical Value to find Outliers\n",
    "\n",
    "#Creating the list of directors and counting number of films\n",
    "director = list()\n",
    "\n",
    "director = list()\n",
    "for i in us['cast'].dropna():\n",
    "    director+=i.split(\",\")\n",
    "director.sort()\n",
    "\n",
    "#Counting the total genre in a country\n",
    "count = {}\n",
    "temp = \"\"\n",
    "for i in director:\n",
    "    if i[0]==\" \":\n",
    "        i = i[1:]\n",
    "    if temp==i:\n",
    "        count[i]+=1\n",
    "        temp = i\n",
    "    else:\n",
    "        count[i] = 1\n",
    "        temp = i\n",
    "\n",
    "#Sorting the count\n",
    "director_count = list()\n",
    "for i in count:\n",
    "    director_count.append((i,count[i]))\n",
    "director_count.sort(key= lambda x:x[1] , reverse=True)\n",
    "x = list()\n",
    "y = list()\n",
    "for i in director_count:\n",
    "    x.append(i[0])\n",
    "    y.append(i[1])\n",
    "\n",
    "#Top 10 \n",
    "x_a = list()\n",
    "y_a = list()\n",
    "\n",
    "x_a+=x[:11]\n",
    "y_a += y[:11]\n",
    "\n",
    "#Middle Values\n",
    "i = 11\n",
    "while i<(len(x)-3):\n",
    "    x_a.append(x[i])\n",
    "    y_a.append(y[i])\n",
    "    i+=len(x)//20\n",
    "\n",
    "#Bottom 3 \n",
    "x_a += x[-1:-4:-1]\n",
    "y_a += y[-1:-4:-1]\n",
    "\n",
    "#Plotting the Graph of directors\n",
    "plt.clf()\n",
    "plt.xticks(rotation=90)\n",
    "plt.bar( x_a,y_a)\n",
    "plt.title(\"USA MovieCast_list\")\n",
    "plt.savefig(\"USA MovieCast_list\",bbox_inches=\"tight\")\n",
    "print(f\"Actor with most films in US: {x_a[0]} \")\n",
    "#Finding First movie of the director \n",
    "us = df[\"United States\" == df[\"country\"]]\n",
    "us = us[x_a[0] == us[\"cast\"]]\n",
    "print(f\"His first movie was released in : {min(us['release_year'])}\")\n",
    "#Finding the Favorite genre of the director\n",
    "genre = list()\n",
    "for i in us['listed_in']:\n",
    "    genre+=i.split(\",\")\n",
    "genre.sort()\n",
    "#Counting the total genre in a country\n",
    "count = {}\n",
    "temp = \"\"\n",
    "for i in genre:\n",
    "    if i[0]==\" \":\n",
    "        i = i[1:]\n",
    "    if temp==i:\n",
    "        count[i]+=1\n",
    "        temp = i\n",
    "    else:\n",
    "        count[i] = 1\n",
    "        temp = i\n",
    "\n",
    "#Sorting the count\n",
    "genre_count = list()\n",
    "for i in count:\n",
    "    genre_count.append((i,count[i]))\n",
    "genre_count.sort(key= lambda x:x[1] , reverse=True)\n",
    "print(f\"His Favorite genre is : {genre_count[0][0]}\")"
   ]
  },
  {
   "cell_type": "code",
   "execution_count": 10,
   "id": "84e5247a-d94a-4869-833b-28bb06e2659e",
   "metadata": {},
   "outputs": [
    {
     "data": {
      "text/html": [
       "<div>\n",
       "<style scoped>\n",
       "    .dataframe tbody tr th:only-of-type {\n",
       "        vertical-align: middle;\n",
       "    }\n",
       "\n",
       "    .dataframe tbody tr th {\n",
       "        vertical-align: top;\n",
       "    }\n",
       "\n",
       "    .dataframe thead th {\n",
       "        text-align: right;\n",
       "    }\n",
       "</style>\n",
       "<table border=\"1\" class=\"dataframe\">\n",
       "  <thead>\n",
       "    <tr style=\"text-align: right;\">\n",
       "      <th></th>\n",
       "      <th>type</th>\n",
       "      <th>title</th>\n",
       "      <th>director</th>\n",
       "      <th>cast</th>\n",
       "      <th>country</th>\n",
       "      <th>date_added</th>\n",
       "      <th>release_year</th>\n",
       "      <th>rating</th>\n",
       "      <th>duration</th>\n",
       "      <th>listed_in</th>\n",
       "    </tr>\n",
       "  </thead>\n",
       "  <tbody>\n",
       "    <tr>\n",
       "      <th>4482</th>\n",
       "      <td>Movie</td>\n",
       "      <td>ADAM SANDLER 100% FRESH</td>\n",
       "      <td>Steve Brill</td>\n",
       "      <td>Adam Sandler</td>\n",
       "      <td>United States</td>\n",
       "      <td>October 23, 2018</td>\n",
       "      <td>2018</td>\n",
       "      <td>R</td>\n",
       "      <td>74 min</td>\n",
       "      <td>Stand-Up Comedy</td>\n",
       "    </tr>\n",
       "  </tbody>\n",
       "</table>\n",
       "</div>"
      ],
      "text/plain": [
       "       type                    title     director          cast  \\\n",
       "4482  Movie  ADAM SANDLER 100% FRESH  Steve Brill  Adam Sandler   \n",
       "\n",
       "            country        date_added  release_year rating duration  \\\n",
       "4482  United States  October 23, 2018          2018      R   74 min   \n",
       "\n",
       "            listed_in  \n",
       "4482  Stand-Up Comedy  "
      ]
     },
     "execution_count": 10,
     "metadata": {},
     "output_type": "execute_result"
    }
   ],
   "source": [
    "us\n",
    "us = us[\"Adam Sandler\" == us[\"cast\"]]"
   ]
  },
  {
   "cell_type": "code",
   "execution_count": 11,
   "id": "fe208b28-d8ea-4084-8c94-9e076c037aac",
   "metadata": {},
   "outputs": [
    {
     "name": "stdout",
     "output_type": "stream",
     "text": [
      "From all the plots, we can conclude that between April to July there is less release of PG movies.\n",
      "So one of those will be an ideal month for the release due to less compitition\n"
     ]
    },
    {
     "data": {
      "image/png": "[encoded data removed]",
      "text/plain": [
       "<Figure size 432x288 with 1 Axes>"
      ]
     },
     "metadata": {
      "needs_background": "light"
     },
     "output_type": "display_data"
    }
   ],
   "source": [
    "#Finding Which month is best suited for release of PG Movies In United States\n",
    "us = df[\"United States\" == df[\"country\"]]\n",
    "us = us[\"PG\" == us[\"rating\"]]\n",
    "date = list(us[\"date_added\"].dropna())\n",
    "\n",
    "date.sort(key = lambda x:x.split(\" \")[0])\n",
    "temp = \"\"\n",
    "count = {}\n",
    "for i in date:\n",
    "    if i[len(i)-4:] > \"2011\" and i[len(i)-4:] < \"2021\":\n",
    "        if i[0]==\" \":\n",
    "            i = i[1:]\n",
    "        if i[-1]==\" \":\n",
    "            i = i[0:-1]\n",
    "        if temp ==list(i.split(\" \"))[0]:\n",
    "            count[list(i.split(\" \"))[0]].append(i[len(i)-4:])\n",
    "            temp = list(i.split(\" \"))[0]\n",
    "        else:\n",
    "            count[list(i.split(\" \"))[0]] = list()\n",
    "            count[list(i.split(\" \"))[0]].append(i[len(i)-4:])\n",
    "            temp = list(i.split(\" \"))[0]\n",
    "            \n",
    "for i in count:\n",
    "    count[i].sort(reverse=True)\n",
    "    \n",
    "m_list = [\"January\",\"February\",\"March\",\n",
    "          \"April\",\"May\",\"June\",\"July\",\n",
    "          \"August\",\"September\",\"October\",\"November\",\"December\"]\n",
    "date_analysed = list()\n",
    "for i in count:\n",
    "    date_analysed.append((m_list.index(i)+1,i,count[i]))\n",
    "date_analysed.sort(key= lambda x:x[0])\n",
    "\n",
    "for year in range(2012,2021):\n",
    "    x = []\n",
    "    y = []\n",
    "    for i in date_analysed:\n",
    "        x.append(i[1])\n",
    "        y.append(i[2].count(str(year)))\n",
    "    plt.clf()\n",
    "    plt.title(year)\n",
    "    plt.xticks(rotation=90)\n",
    "    plt.bar( x,y)\n",
    "    plt.savefig( path + f\"Best Month For PG\\\\{year}\",bbox_inches=\"tight\")\n",
    "    \n",
    "print(\"From all the plots, we can conclude that between April to July there is less release of PG movies.\")\n",
    "print(\"So one of those will be an ideal month for the release due to less compitition\")\n",
    "    "
   ]
  },
  {
   "cell_type": "code",
   "execution_count": 12,
   "id": "9adfd046-2598-4056-bb4d-a2bb3d1021af",
   "metadata": {},
   "outputs": [
    {
     "data": {
      "image/png": "[encoded data removed]",
      "text/plain": [
       "<Figure size 432x288 with 1 Axes>"
      ]
     },
     "metadata": {
      "needs_background": "light"
     },
     "output_type": "display_data"
    }
   ],
   "source": [
    "#Duration Analysis for Drama\n",
    "us = df[\"United States\" == df[\"country\"]]\n",
    "us = us[us[\"release_year\"]>=2010]\n",
    "d_df1 = us[us[\"listed_in\"]==\"Dramas\"]\n",
    "#df2 = us[us[\"listed_in\"]==\"TV Dramas\"]\n",
    "#drama = pd.concat([d_df1,df2])\n",
    "c_df1 = us[us[\"listed_in\"]==\"Comedies\"]\n",
    "#df2 = us[us[\"listed_in\"]==\"TV Comedies\"]\n",
    "#cmd = pd.concat([c_df1,df2])\n",
    "\n",
    "d_df1.sort_values('release_year',ascending=True)\n",
    "avg = []\n",
    "year_list = [] \n",
    "for i in range(2010,2021):\n",
    "    summation =0\n",
    "    n = 0\n",
    "    pres_df1 = d_df1[d_df1[\"release_year\"]==i]\n",
    "    for k in pres_df1[\"duration\"]:\n",
    "        summation += int(list(k.split())[0])\n",
    "        n +=1\n",
    "    avg.append(summation/n)\n",
    "    year_list.append(i)\n",
    "plt.clf()\n",
    "plt.plot(year_list,avg,label=\"Dramas\")\n",
    "\n",
    "\n",
    "c_df1.sort_values('release_year',ascending=True)\n",
    "avg = []\n",
    "year_list = [] \n",
    "for i in range(2010,2021):\n",
    "    summation =0\n",
    "    n = 0\n",
    "    pres_df1 = c_df1[c_df1[\"release_year\"]==i]\n",
    "    for k in pres_df1[\"duration\"]:\n",
    "        summation += int(list(k.split())[0])\n",
    "        n +=1\n",
    "    avg.append(summation/n)\n",
    "    year_list.append(i)\n",
    "plt.plot(year_list,avg , label=\"Comedies\")\n",
    "plt.legend()\n",
    "plt.title(\"Avg-Duration Change\")\n",
    "plt.savefig(\"Avg-Duration Change\",bbox_inches=\"tight\")"
   ]
  },
  {
   "cell_type": "code",
   "execution_count": 13,
   "id": "9b84d21e-0a58-4223-a552-0e8e72bfdfad",
   "metadata": {},
   "outputs": [
    {
     "data": {
      "image/png": "[encoded data removed]",
      "text/plain": [
       "<Figure size 432x288 with 1 Axes>"
      ]
     },
     "metadata": {
      "needs_background": "light"
     },
     "output_type": "display_data"
    }
   ],
   "source": [
    "#Zombie Visualization\n",
    "us = df[\"United States\" == df[\"country\"]]\n",
    "df1 = us[us[\"listed_in\"]==\"Horror Movies\"]\n",
    "df2 = us[us[\"listed_in\"]==\"Thrillers\"]\n",
    "zombie = pd.concat([df1,df2])\n",
    "year_li = list(zombie[\"release_year\"])\n",
    "year_li.sort()\n",
    "\n",
    "temp = 0\n",
    "count = 0\n",
    "x = []\n",
    "y= []\n",
    "for i in year_li:\n",
    "    if temp==i and i<2021 and i>2010:\n",
    "        count+=1\n",
    "        temp = i\n",
    "    elif i<2021 and i>2010:\n",
    "        x.append(i)\n",
    "        y.append(count)\n",
    "        count = 1\n",
    "        temp = i\n",
    "plt.clf()\n",
    "plt.plot(x,y)\n",
    "plt.title(\"Zombie related genera\")\n",
    "plt.savefig(\"zombie grph\",bbox_inches=\"tight\")\n",
    "#for i in range(len(x)):\n",
    "#    print(x[i],y[i])"
   ]
  },
  {
   "cell_type": "code",
   "execution_count": 14,
   "id": "628aaa47-5995-4413-aee1-940536711972",
   "metadata": {},
   "outputs": [],
   "source": [
    "df = pd.read_csv(\"netflix_titles.csv\")"
   ]
  },
  {
   "cell_type": "code",
   "execution_count": 19,
   "id": "c77eb7ab-0a4c-427d-a2d6-61b2d1bfa052",
   "metadata": {},
   "outputs": [
    {
     "data": {
      "text/plain": [
       "show_id         object\n",
       "type            object\n",
       "title           object\n",
       "director        object\n",
       "cast            object\n",
       "country         object\n",
       "date_added      object\n",
       "release_year     int64\n",
       "rating          object\n",
       "duration        object\n",
       "listed_in       object\n",
       "description     object\n",
       "dtype: object"
      ]
     },
     "execution_count": 19,
     "metadata": {},
     "output_type": "execute_result"
    }
   ],
   "source": [
    "df.dtypes"
   ]
  },
  {
   "cell_type": "code",
   "execution_count": 21,
   "id": "f9dd8c1a-bb3a-491b-980c-e7d2095d2be0",
   "metadata": {},
   "outputs": [
    {
     "data": {
      "text/plain": [
       "show_id            0\n",
       "type               0\n",
       "title              0\n",
       "director        2634\n",
       "cast             825\n",
       "country          831\n",
       "date_added        10\n",
       "release_year       0\n",
       "rating             4\n",
       "duration           3\n",
       "listed_in          0\n",
       "description        0\n",
       "dtype: int64"
      ]
     },
     "execution_count": 21,
     "metadata": {},
     "output_type": "execute_result"
    }
   ],
   "source": [
    "df.isnull().sum()"
   ]
  },
  {
   "cell_type": "code",
   "execution_count": 28,
   "id": "e0fbe616-397c-48a7-9144-54de879e4f90",
   "metadata": {},
   "outputs": [
    {
     "data": {
      "text/plain": [
       "0                                                   [nan]\n",
       "1       [Ama Qamata,  Khosi Ngema,  Gail Mabalane,  Th...\n",
       "2       [Sami Bouajila,  Tracy Gotoas,  Samuel Jouy,  ...\n",
       "3                                                   [nan]\n",
       "4       [Mayur More,  Jitendra Kumar,  Ranjan Raj,  Al...\n",
       "                              ...                        \n",
       "8802    [Mark Ruffalo,  Jake Gyllenhaal,  Robert Downe...\n",
       "8803                                                [nan]\n",
       "8804    [Jesse Eisenberg,  Woody Harrelson,  Emma Ston...\n",
       "8805    [Tim Allen,  Courteney Cox,  Chevy Chase,  Kat...\n",
       "8806    [Vicky Kaushal,  Sarah-Jane Dias,  Raaghav Cha...\n",
       "Name: cast, Length: 8807, dtype: object"
      ]
     },
     "execution_count": 28,
     "metadata": {},
     "output_type": "execute_result"
    }
   ],
   "source": []
  },
  {
   "cell_type": "code",
   "execution_count": 37,
   "id": "03b020ba-2cf5-4577-a2fa-77abfd57227a",
   "metadata": {},
   "outputs": [
    {
     "name": "stdout",
     "output_type": "stream",
     "text": [
      "['Comedies', 'Comedies, Horror Movies', 'Dramas, Thrillers', 'Comedies', 'Stand-Up Comedy', 'Comedies', 'Comedies, Dramas, Independent Movies', 'Comedies', 'Action & Adventure, Comedies', 'Action & Adventure, Comedies', 'Comedies, Romantic Movies', 'Comedies', 'Children & Family Movies, Comedies', 'Comedies', 'Comedies, Sci-Fi & Fantasy', 'Children & Family Movies, Comedies', 'Comedies', 'Comedies, Romantic Movies', 'Comedies, Sports Movies', 'Action & Adventure, Comedies']\n",
      "1998\n"
     ]
    }
   ],
   "source": [
    "df['cast'] = df['cast'].astype(str)\n",
    "a = lambda x:list(x.split(\",\"))\n",
    "df['cast'].apply(a)\n",
    "l = list()\n",
    "l2 = list()\n",
    "for index,row in df.iterrows():\n",
    "    if 'Adam Sandler' in row['cast']:\n",
    "        l.append(row['listed_in'])\n",
    "        l2.append(row['release_year'])\n",
    "print(l)\n",
    "print(min(l2))"
   ]
  },
  {
   "cell_type": "code",
   "execution_count": null,
   "id": "bcad7ff7-c669-49ab-b903-308841bde822",
   "metadata": {},
   "outputs": [],
   "source": []
  }
 ],
 "metadata": {
  "kernelspec": {
   "display_name": "Python 3 (ipykernel)",
   "language": "python",
   "name": "python3"
  },
  "language_info": {
   "codemirror_mode": {
    "name": "ipython",
    "version": 3
   },
   "file_extension": ".py",
   "mimetype": "text/x-python",
   "name": "python",
   "nbconvert_exporter": "python",
   "pygments_lexer": "ipython3",
   "version": "3.8.5"
  }
 },
 "nbformat": 4,
 "nbformat_minor": 5
}
